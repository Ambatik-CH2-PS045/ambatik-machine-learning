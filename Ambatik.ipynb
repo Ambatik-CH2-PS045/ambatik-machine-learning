{
  "cells": [
    {
      "cell_type": "markdown",
      "source": [
        "## Library"
      ],
      "metadata": {
        "id": "LuJAaoImhTjb"
      }
    },
    {
      "cell_type": "code",
      "execution_count": null,
      "metadata": {
        "id": "ip_zUZ866vtD"
      },
      "outputs": [],
      "source": [
        "import os\n",
        "from keras.preprocessing import image\n",
        "import numpy as np\n",
        "import tensorflow as tf\n",
        "import matplotlib.pyplot as plt\n",
        "from tensorflow.keras.preprocessing.image import ImageDataGenerator"
      ]
    },
    {
      "cell_type": "markdown",
      "source": [
        "## Connect Google Drive"
      ],
      "metadata": {
        "id": "0pNx_uSphYDO"
      }
    },
    {
      "cell_type": "code",
      "source": [
        "from google.colab import drive\n",
        "drive.mount('/content/drive')"
      ],
      "metadata": {
        "id": "O9urEUiYh8mz"
      },
      "execution_count": null,
      "outputs": []
    },
    {
      "cell_type": "markdown",
      "source": [
        "## Modelling"
      ],
      "metadata": {
        "id": "psCZaukKhb-8"
      }
    },
    {
      "cell_type": "markdown",
      "source": [
        "### Load Data"
      ],
      "metadata": {
        "id": "NgAOrUWrhiTB"
      }
    },
    {
      "cell_type": "code",
      "execution_count": null,
      "metadata": {
        "id": "zdJR61hi6vtI"
      },
      "outputs": [],
      "source": [
        "DATASET_DIR = \"/content/drive/MyDrive/BANGKIT/dataset_min\"\n",
        "\n",
        "train_datagen = ImageDataGenerator(\n",
        "  rotation_range=40,\n",
        "  width_shift_range=0.2,\n",
        "  height_shift_range=0.2,\n",
        "  shear_range=0.2,\n",
        "  zoom_range=0.2,\n",
        "  horizontal_flip=True,\n",
        "  fill_mode='nearest',\n",
        "  validation_split=0.2\n",
        ")\n",
        "\n",
        "train_generator = train_datagen.flow_from_directory(\n",
        "  directory=DATASET_DIR,\n",
        "  seed=15,\n",
        "  batch_size=20,\n",
        "  subset='training',\n",
        "  color_mode='rgb',\n",
        "  class_mode='categorical',\n",
        "  target_size=(256, 256)\n",
        ")\n",
        "\n",
        "validation_datagen = ImageDataGenerator(validation_split=0.2)\n",
        "\n",
        "validation_generator = validation_datagen.flow_from_directory(\n",
        "  directory=DATASET_DIR,\n",
        "  seed=15,\n",
        "  batch_size=20,\n",
        "  subset='validation',\n",
        "  color_mode='rgb',\n",
        "  class_mode='categorical',\n",
        "  target_size=(256, 256)\n",
        ")"
      ]
    },
    {
      "cell_type": "markdown",
      "source": [
        "### Model"
      ],
      "metadata": {
        "id": "w93D4px_hnWL"
      }
    },
    {
      "cell_type": "code",
      "source": [
        "efficientnet = tf.keras.applications.EfficientNetV2M(include_top=False, weights=\"imagenet\",input_shape=(256, 256, 3))\n",
        "\n",
        "for layer in efficientnet.layers:\n",
        "  if layer.name == 'block7e_dwconv2':\n",
        "    break\n",
        "  layer.trainable = False\n",
        "\n",
        "model = tf.keras.models.Sequential([\n",
        "  efficientnet,\n",
        "  tf.keras.layers.GlobalAveragePooling2D(),\n",
        "  tf.keras.layers.BatchNormalization(),\n",
        "  tf.keras.layers.Dense(units=15, activation='softmax')\n",
        "])"
      ],
      "metadata": {
        "id": "y_TqLkBmuQfU"
      },
      "execution_count": null,
      "outputs": []
    },
    {
      "cell_type": "code",
      "source": [
        "model.compile(\n",
        "  optimizer='rmsprop',\n",
        "  loss='categorical_crossentropy',\n",
        "  metrics=['accuracy']\n",
        ")"
      ],
      "metadata": {
        "id": "14ruWVqwmdzI"
      },
      "execution_count": null,
      "outputs": []
    },
    {
      "cell_type": "code",
      "source": [
        "print(model.summary())"
      ],
      "metadata": {
        "id": "_yqa-Gw83_vd"
      },
      "execution_count": null,
      "outputs": []
    },
    {
      "cell_type": "markdown",
      "source": [
        "### Callback"
      ],
      "metadata": {
        "id": "7nWnfvyghqiT"
      }
    },
    {
      "cell_type": "code",
      "execution_count": null,
      "metadata": {
        "id": "ygPmdSlg6vtK"
      },
      "outputs": [],
      "source": [
        "class myCallback(tf.keras.callbacks.Callback):\n",
        "  def on_epoch_end(self, epoch, logs={}):\n",
        "    if (logs.get('accuracy') > 0.97 and logs.get('val_accuracy') > 0.97):\n",
        "      print(\"\\nCancelling training!\")\n",
        "      self.model.stop_training = True\n",
        "\n",
        "callbacks = myCallback()\n",
        "early_stop = tf.keras.callbacks.EarlyStopping(monitor='val_loss', patience=20, restore_best_weights=True)"
      ]
    },
    {
      "cell_type": "markdown",
      "source": [
        "### Train Model"
      ],
      "metadata": {
        "id": "wqrA2usBht2r"
      }
    },
    {
      "cell_type": "code",
      "execution_count": null,
      "metadata": {
        "id": "8GBT2WJt6vtL"
      },
      "outputs": [],
      "source": [
        "history = model.fit(\n",
        "  train_generator,\n",
        "  epochs=100,\n",
        "  verbose=1,\n",
        "  validation_data=validation_generator,\n",
        "  callbacks=[callbacks, early_stop]\n",
        ")"
      ]
    },
    {
      "cell_type": "markdown",
      "source": [
        "### Save Model"
      ],
      "metadata": {
        "id": "PBlBfhKdhwrv"
      }
    },
    {
      "cell_type": "code",
      "source": [
        "model_name = \"EfficientNetV2M\"\n",
        "acc = format(history.history['accuracy'][-21], '.4f')[2:]\n",
        "val_acc = format(history.history['val_accuracy'][-21], '.4f')[2:]\n",
        "\n",
        "filename = model_name + \"_\" + acc + \"_\" + val_acc + \".h5\"\n",
        "print(filename)"
      ],
      "metadata": {
        "id": "TA9T_u4zBTLJ"
      },
      "execution_count": null,
      "outputs": []
    },
    {
      "cell_type": "code",
      "source": [
        "model.save(filename)"
      ],
      "metadata": {
        "id": "8fIW8MtbQbnR"
      },
      "execution_count": null,
      "outputs": []
    },
    {
      "cell_type": "markdown",
      "source": [
        "### Model Peformance"
      ],
      "metadata": {
        "id": "rV2x8EN7K6gu"
      }
    },
    {
      "cell_type": "code",
      "source": [
        "# Ambil nilai loss dan akurasi dari objek 'history'\n",
        "train_loss = history.history['loss']\n",
        "val_loss = history.history['val_loss']\n",
        "train_acc = history.history['accuracy']\n",
        "val_acc = history.history['val_accuracy']\n",
        "\n",
        "# Visualisasi grafik loss\n",
        "plt.figure(figsize=(10, 5))\n",
        "plt.subplot(1, 2, 1)\n",
        "plt.plot(range(1, len(train_loss) + 1), train_loss, label='Training Loss')\n",
        "plt.plot(range(1, len(val_loss) + 1), val_loss, label='Validation Loss')\n",
        "plt.title('Training and Validation Loss')\n",
        "plt.xlabel('Epochs')\n",
        "plt.ylabel('Loss')\n",
        "plt.legend()\n",
        "\n",
        "# Visualisasi grafik akurasi\n",
        "plt.subplot(1, 2, 2)\n",
        "plt.plot(range(1, len(train_acc) + 1), train_acc, label='Training Accuracy')\n",
        "plt.plot(range(1, len(val_acc) + 1), val_acc, label='Validation Accuracy')\n",
        "plt.title('Training and Validation Accuracy')\n",
        "plt.xlabel('Epochs')\n",
        "plt.ylabel('Accuracy')\n",
        "plt.legend()\n",
        "\n",
        "# Menampilkan grafik\n",
        "plt.tight_layout()\n",
        "plt.show()"
      ],
      "metadata": {
        "id": "JGxtXFaXLfQJ"
      },
      "execution_count": null,
      "outputs": []
    },
    {
      "cell_type": "markdown",
      "source": [
        "## Predict"
      ],
      "metadata": {
        "id": "ZnLs5-3KhNRj"
      }
    },
    {
      "cell_type": "markdown",
      "source": [
        "### Load Model"
      ],
      "metadata": {
        "id": "tYz7MgoIh4mr"
      }
    },
    {
      "cell_type": "code",
      "source": [
        "model = tf.keras.models.load_model('/content/drive/MyDrive/BANGKIT/Model/EfficientNetV2M_9889_9204.h5')"
      ],
      "metadata": {
        "id": "7DYlzicYh0um"
      },
      "execution_count": null,
      "outputs": []
    },
    {
      "cell_type": "markdown",
      "source": [
        "### Class Name"
      ],
      "metadata": {
        "id": "FxlwJa12h_7z"
      }
    },
    {
      "cell_type": "code",
      "source": [
        "classes = ['cendrawasih', 'geblek renteng', 'insang', 'kawung', 'lasem', 'mega mendung', 'nitik', 'parang', 'poleng', 'pring sedapur', 'sekar jagad', 'simbut', 'sogan', 'tambal', 'truntum']\n",
        "print(classes)"
      ],
      "metadata": {
        "id": "yAP0LMCMh-2M"
      },
      "execution_count": null,
      "outputs": []
    },
    {
      "cell_type": "markdown",
      "source": [
        "### Predict Top 1"
      ],
      "metadata": {
        "id": "09j2pD5piFE8"
      }
    },
    {
      "cell_type": "code",
      "source": [
        "img_width, img_height = 256, 256\n",
        "img = image.load_img('36.jpg', target_size = (img_width, img_height))\n",
        "img = image.img_to_array(img)\n",
        "img = np.expand_dims(img, axis = 0)\n",
        "\n",
        "pred =  model.predict(img)\n",
        "pred_index = np.argmax(pred[0])\n",
        "print(list(validation_generator.class_indices.keys())[pred_index])\n",
        "print(pred[0][pred_index] * 100)"
      ],
      "metadata": {
        "colab": {
          "base_uri": "https://localhost:8080/"
        },
        "id": "iake828KiJBK",
        "outputId": "066cfd83-e097-4ac2-b3ad-dcbea1437e6c"
      },
      "execution_count": null,
      "outputs": [
        {
          "output_type": "stream",
          "name": "stdout",
          "text": [
            "1/1 [==============================] - 8s 8s/step\n",
            "geblek renteng\n",
            "98.5456645488739\n"
          ]
        }
      ]
    },
    {
      "cell_type": "markdown",
      "source": [
        "### Predict Top 3"
      ],
      "metadata": {
        "id": "fh6q1K1PiLAb"
      }
    },
    {
      "cell_type": "code",
      "source": [
        "img_width, img_height = 256, 256\n",
        "img = image.load_img('36.jpg', target_size = (img_width, img_height))\n",
        "img = image.img_to_array(img)\n",
        "img = np.expand_dims(img, axis = 0)\n",
        "\n",
        "pred =  model.predict(img)\n",
        "\n",
        "top_k_values, top_k_indices = tf.nn.top_k(pred, k=3)\n",
        "\n",
        "for i in range(len(top_k_values[0])):\n",
        "  print(classes[int(top_k_indices[0][i])] + \": \" + str(float(top_k_values[0][i]) * 100))"
      ],
      "metadata": {
        "colab": {
          "base_uri": "https://localhost:8080/"
        },
        "id": "sfqNjNzqiNKC",
        "outputId": "cdf189af-90be-4374-838b-ae68ac51d831"
      },
      "execution_count": null,
      "outputs": [
        {
          "output_type": "stream",
          "name": "stdout",
          "text": [
            "1/1 [==============================] - 0s 42ms/step\n",
            "parang: 99.99275207519531\n",
            "tambal: 0.005792994488729164\n",
            "sogan: 0.0013197688531363383\n"
          ]
        }
      ]
    }
  ],
  "metadata": {
    "kernelspec": {
      "display_name": "Python 3",
      "name": "python3"
    },
    "language_info": {
      "codemirror_mode": {
        "name": "ipython",
        "version": 3
      },
      "file_extension": ".py",
      "mimetype": "text/x-python",
      "name": "python",
      "nbconvert_exporter": "python",
      "pygments_lexer": "ipython3",
      "version": "3.9.7"
    },
    "colab": {
      "provenance": [],
      "gpuType": "T4"
    },
    "accelerator": "GPU"
  },
  "nbformat": 4,
  "nbformat_minor": 0
}