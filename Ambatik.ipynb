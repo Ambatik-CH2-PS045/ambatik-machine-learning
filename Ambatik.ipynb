{
  "cells": [
    {
      "cell_type": "markdown",
      "metadata": {
        "id": "LuJAaoImhTjb"
      },
      "source": [
        "## Library"
      ]
    },
    {
      "cell_type": "code",
      "execution_count": null,
      "metadata": {
        "id": "ip_zUZ866vtD"
      },
      "outputs": [],
      "source": [
        "from keras.preprocessing import image\n",
        "import numpy as np\n",
        "import tensorflow as tf\n",
        "import matplotlib.pyplot as plt\n",
        "from tensorflow.keras.preprocessing.image import ImageDataGenerator"
      ]
    },
    {
      "cell_type": "markdown",
      "metadata": {
        "id": "0pNx_uSphYDO"
      },
      "source": [
        "## Connect Google Drive"
      ]
    },
    {
      "cell_type": "code",
      "execution_count": null,
      "metadata": {
        "id": "O9urEUiYh8mz"
      },
      "outputs": [],
      "source": [
        "from google.colab import drive\n",
        "drive.mount('/content/drive')"
      ]
    },
    {
      "cell_type": "markdown",
      "metadata": {
        "id": "psCZaukKhb-8"
      },
      "source": [
        "## Modelling"
      ]
    },
    {
      "cell_type": "markdown",
      "metadata": {
        "id": "NgAOrUWrhiTB"
      },
      "source": [
        "### Load Data"
      ]
    },
    {
      "cell_type": "code",
      "execution_count": null,
      "metadata": {
        "id": "zdJR61hi6vtI"
      },
      "outputs": [],
      "source": [
        "DATASET_DIR = \"/content/drive/MyDrive/BANGKIT/dataset_min\"\n",
        "\n",
        "train_datagen = ImageDataGenerator(\n",
        "  rotation_range=40,\n",
        "  width_shift_range=0.2,\n",
        "  height_shift_range=0.2,\n",
        "  shear_range=0.2,\n",
        "  zoom_range=0.2,\n",
        "  horizontal_flip=True,\n",
        "  fill_mode='nearest',\n",
        "  validation_split=0.2\n",
        ")\n",
        "\n",
        "train_generator = train_datagen.flow_from_directory(\n",
        "  directory=DATASET_DIR,\n",
        "  seed=15,\n",
        "  batch_size=20,\n",
        "  subset='training',\n",
        "  color_mode='rgb',\n",
        "  class_mode='categorical',\n",
        "  target_size=(256, 256)\n",
        ")\n",
        "\n",
        "validation_datagen = ImageDataGenerator(validation_split=0.2)\n",
        "\n",
        "validation_generator = validation_datagen.flow_from_directory(\n",
        "  directory=DATASET_DIR,\n",
        "  seed=15,\n",
        "  batch_size=20,\n",
        "  subset='validation',\n",
        "  color_mode='rgb',\n",
        "  class_mode='categorical',\n",
        "  target_size=(256, 256)\n",
        ")"
      ]
    },
    {
      "cell_type": "markdown",
      "metadata": {
        "id": "w93D4px_hnWL"
      },
      "source": [
        "### Model"
      ]
    },
    {
      "cell_type": "code",
      "execution_count": null,
      "metadata": {
        "id": "y_TqLkBmuQfU"
      },
      "outputs": [],
      "source": [
        "efficientnet = tf.keras.applications.EfficientNetV2M(include_top=False, weights=\"imagenet\",input_shape=(256, 256, 3))\n",
        "\n",
        "for layer in efficientnet.layers:\n",
        "  if layer.name == 'block7e_dwconv2':\n",
        "    break\n",
        "  layer.trainable = False\n",
        "\n",
        "model = tf.keras.models.Sequential([\n",
        "  efficientnet,\n",
        "  tf.keras.layers.GlobalAveragePooling2D(),\n",
        "  tf.keras.layers.BatchNormalization(),\n",
        "  tf.keras.layers.Dense(units=15, activation='softmax')\n",
        "])"
      ]
    },
    {
      "cell_type": "code",
      "execution_count": null,
      "metadata": {
        "id": "14ruWVqwmdzI"
      },
      "outputs": [],
      "source": [
        "model.compile(\n",
        "  optimizer='rmsprop',\n",
        "  loss='categorical_crossentropy',\n",
        "  metrics=['accuracy']\n",
        ")"
      ]
    },
    {
      "cell_type": "code",
      "execution_count": null,
      "metadata": {
        "id": "_yqa-Gw83_vd"
      },
      "outputs": [],
      "source": [
        "print(model.summary())"
      ]
    },
    {
      "cell_type": "markdown",
      "metadata": {
        "id": "7nWnfvyghqiT"
      },
      "source": [
        "### Callback"
      ]
    },
    {
      "cell_type": "code",
      "execution_count": null,
      "metadata": {
        "id": "ygPmdSlg6vtK"
      },
      "outputs": [],
      "source": [
        "class myCallback(tf.keras.callbacks.Callback):\n",
        "  def on_epoch_end(self, epoch, logs={}):\n",
        "    if (logs.get('accuracy') > 0.97 and logs.get('val_accuracy') > 0.97):\n",
        "      print(\"\\nCancelling training!\")\n",
        "      self.model.stop_training = True\n",
        "\n",
        "callbacks = myCallback()\n",
        "early_stop = tf.keras.callbacks.EarlyStopping(monitor='val_loss', patience=20, restore_best_weights=True)"
      ]
    },
    {
      "cell_type": "markdown",
      "metadata": {
        "id": "wqrA2usBht2r"
      },
      "source": [
        "### Train Model"
      ]
    },
    {
      "cell_type": "code",
      "execution_count": null,
      "metadata": {
        "id": "8GBT2WJt6vtL"
      },
      "outputs": [],
      "source": [
        "history = model.fit(\n",
        "  train_generator,\n",
        "  epochs=100,\n",
        "  verbose=1,\n",
        "  validation_data=validation_generator,\n",
        "  callbacks=[callbacks, early_stop]\n",
        ")"
      ]
    },
    {
      "cell_type": "markdown",
      "metadata": {
        "id": "PBlBfhKdhwrv"
      },
      "source": [
        "### Save Model"
      ]
    },
    {
      "cell_type": "code",
      "execution_count": null,
      "metadata": {
        "id": "TA9T_u4zBTLJ"
      },
      "outputs": [],
      "source": [
        "model_name = \"EfficientNetV2M\"\n",
        "acc = format(history.history['accuracy'][-21], '.4f')[2:]\n",
        "val_acc = format(history.history['val_accuracy'][-21], '.4f')[2:]\n",
        "\n",
        "filename = model_name + \"_\" + acc + \"_\" + val_acc + \".h5\"\n",
        "print(filename)"
      ]
    },
    {
      "cell_type": "code",
      "execution_count": null,
      "metadata": {
        "id": "8fIW8MtbQbnR"
      },
      "outputs": [],
      "source": [
        "model.save(filename)"
      ]
    },
    {
      "cell_type": "markdown",
      "metadata": {
        "id": "rV2x8EN7K6gu"
      },
      "source": [
        "### Model Peformance"
      ]
    },
    {
      "cell_type": "code",
      "execution_count": null,
      "metadata": {
        "id": "JGxtXFaXLfQJ"
      },
      "outputs": [],
      "source": [
        "# Ambil nilai loss dan akurasi dari objek 'history'\n",
        "train_loss = history.history['loss']\n",
        "val_loss = history.history['val_loss']\n",
        "train_acc = history.history['accuracy']\n",
        "val_acc = history.history['val_accuracy']\n",
        "\n",
        "# Visualisasi grafik loss\n",
        "plt.figure(figsize=(10, 5))\n",
        "plt.subplot(1, 2, 1)\n",
        "plt.plot(range(1, len(train_loss) + 1), train_loss, label='Training Loss')\n",
        "plt.plot(range(1, len(val_loss) + 1), val_loss, label='Validation Loss')\n",
        "plt.title('Training and Validation Loss')\n",
        "plt.xlabel('Epochs')\n",
        "plt.ylabel('Loss')\n",
        "plt.legend()\n",
        "\n",
        "# Visualisasi grafik akurasi\n",
        "plt.subplot(1, 2, 2)\n",
        "plt.plot(range(1, len(train_acc) + 1), train_acc, label='Training Accuracy')\n",
        "plt.plot(range(1, len(val_acc) + 1), val_acc, label='Validation Accuracy')\n",
        "plt.title('Training and Validation Accuracy')\n",
        "plt.xlabel('Epochs')\n",
        "plt.ylabel('Accuracy')\n",
        "plt.legend()\n",
        "\n",
        "# Menampilkan grafik\n",
        "plt.tight_layout()\n",
        "plt.show()"
      ]
    },
    {
      "cell_type": "markdown",
      "metadata": {
        "id": "ZnLs5-3KhNRj"
      },
      "source": [
        "## Predict"
      ]
    },
    {
      "cell_type": "markdown",
      "metadata": {
        "id": "tYz7MgoIh4mr"
      },
      "source": [
        "### Load Model"
      ]
    },
    {
      "cell_type": "code",
      "execution_count": null,
      "metadata": {
        "id": "7DYlzicYh0um"
      },
      "outputs": [],
      "source": [
        "model = tf.keras.models.load_model('/content/drive/MyDrive/BANGKIT/Model/EfficientNetV2M_9889_9204.h5')"
      ]
    },
    {
      "cell_type": "markdown",
      "metadata": {
        "id": "FxlwJa12h_7z"
      },
      "source": [
        "### Class Name"
      ]
    },
    {
      "cell_type": "code",
      "execution_count": null,
      "metadata": {
        "id": "yAP0LMCMh-2M"
      },
      "outputs": [],
      "source": [
        "classes = ['cendrawasih', 'geblek renteng', 'insang', 'kawung', 'lasem', 'mega mendung', 'nitik', 'parang', 'poleng', 'pring sedapur', 'sekar jagad', 'simbut', 'sogan', 'tambal', 'truntum']\n",
        "print(classes)"
      ]
    },
    {
      "cell_type": "markdown",
      "metadata": {
        "id": "09j2pD5piFE8"
      },
      "source": [
        "### Predict Top 1"
      ]
    },
    {
      "cell_type": "code",
      "execution_count": null,
      "metadata": {
        "colab": {
          "base_uri": "https://localhost:8080/"
        },
        "id": "iake828KiJBK",
        "outputId": "066cfd83-e097-4ac2-b3ad-dcbea1437e6c"
      },
      "outputs": [
        {
          "name": "stdout",
          "output_type": "stream",
          "text": [
            "1/1 [==============================] - 8s 8s/step\n",
            "geblek renteng\n",
            "98.5456645488739\n"
          ]
        }
      ],
      "source": [
        "img_width, img_height = 256, 256\n",
        "img = image.load_img('36.jpg', target_size = (img_width, img_height))\n",
        "img = image.img_to_array(img)\n",
        "img = np.expand_dims(img, axis = 0)\n",
        "\n",
        "pred =  model.predict(img)\n",
        "pred_index = np.argmax(pred[0])\n",
        "print(list(validation_generator.class_indices.keys())[pred_index])\n",
        "print(pred[0][pred_index] * 100)"
      ]
    },
    {
      "cell_type": "markdown",
      "metadata": {
        "id": "fh6q1K1PiLAb"
      },
      "source": [
        "### Predict Top 3"
      ]
    },
    {
      "cell_type": "code",
      "execution_count": null,
      "metadata": {
        "colab": {
          "base_uri": "https://localhost:8080/"
        },
        "id": "sfqNjNzqiNKC",
        "outputId": "cdf189af-90be-4374-838b-ae68ac51d831"
      },
      "outputs": [
        {
          "name": "stdout",
          "output_type": "stream",
          "text": [
            "1/1 [==============================] - 0s 42ms/step\n",
            "parang: 99.99275207519531\n",
            "tambal: 0.005792994488729164\n",
            "sogan: 0.0013197688531363383\n"
          ]
        }
      ],
      "source": [
        "img_width, img_height = 256, 256\n",
        "img = image.load_img('36.jpg', target_size = (img_width, img_height))\n",
        "img = image.img_to_array(img)\n",
        "img = np.expand_dims(img, axis = 0)\n",
        "\n",
        "pred =  model.predict(img)\n",
        "\n",
        "top_k_values, top_k_indices = tf.nn.top_k(pred, k=3)\n",
        "\n",
        "for i in range(len(top_k_values[0])):\n",
        "  print(classes[int(top_k_indices[0][i])] + \": \" + str(float(top_k_values[0][i]) * 100))"
      ]
    }
  ],
  "metadata": {
    "accelerator": "GPU",
    "colab": {
      "gpuType": "T4",
      "provenance": []
    },
    "kernelspec": {
      "display_name": "Python 3",
      "name": "python3"
    },
    "language_info": {
      "codemirror_mode": {
        "name": "ipython",
        "version": 3
      },
      "file_extension": ".py",
      "mimetype": "text/x-python",
      "name": "python",
      "nbconvert_exporter": "python",
      "pygments_lexer": "ipython3",
      "version": "3.9.7"
    }
  },
  "nbformat": 4,
  "nbformat_minor": 0
}
